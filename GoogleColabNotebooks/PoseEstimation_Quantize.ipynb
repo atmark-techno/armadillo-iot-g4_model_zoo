{
  "nbformat": 4,
  "nbformat_minor": 0,
  "metadata": {
    "colab": {
      "name": "PoseEstimation_Quantize.ipynb",
      "provenance": [],
      "authorship_tag": "ABX9TyOyr18IJOfjH4oSs/yqNCZo",
      "include_colab_link": true
    },
    "kernelspec": {
      "name": "python3",
      "display_name": "Python 3"
    },
    "language_info": {
      "name": "python"
    }
  },
  "cells": [
    {
      "cell_type": "markdown",
      "metadata": {
        "id": "view-in-github",
        "colab_type": "text"
      },
      "source": [
        "<a href=\"https://colab.research.google.com/github/atmark-techno/armadillo-iot-g4_model_zoo/blob/main/GoogleColabNotebooks/PoseEstimation_Quantize.ipynb\" target=\"_parent\"><img src=\"https://colab.research.google.com/assets/colab-badge.svg\" alt=\"Open In Colab\"/></a>"
      ]
    },
    {
      "cell_type": "markdown",
      "source": [
        "# 準備"
      ],
      "metadata": {
        "id": "uX-i5Rkf-lrI"
      }
    },
    {
      "cell_type": "markdown",
      "source": [
        "## tensorflowのバージョンを2.1.0に変更"
      ],
      "metadata": {
        "id": "DNrQ0Bo7_GeU"
      }
    },
    {
      "cell_type": "code",
      "source": [
        "!pip uninstall -y \\\n",
        "tensorboard \\\n",
        "tensorboard-data-server \\\n",
        "tensorboard-plugin-wit \\\n",
        "tensorflow \\\n",
        "tensorflow-datasets \\\n",
        "tensorflow-estimator \\\n",
        "tensorflow-gcs-config \\\n",
        "tensorflow-hub \\\n",
        "tensorflow-io-gcs-filesystem \\\n",
        "tensorflow-metadata \\\n",
        "tensorflow-probability\n",
        "\n",
        "!pip install tensorflow==2.1.0"
      ],
      "metadata": {
        "colab": {
          "base_uri": "https://localhost:8080/"
        },
        "id": "nZheZIuNZeez",
        "outputId": "0e8851a5-e849-44c2-db72-ff0c90996b6d"
      },
      "execution_count": 1,
      "outputs": [
        {
          "output_type": "stream",
          "name": "stdout",
          "text": [
            "Found existing installation: tensorboard 2.8.0\n",
            "Uninstalling tensorboard-2.8.0:\n",
            "  Successfully uninstalled tensorboard-2.8.0\n",
            "Found existing installation: tensorboard-data-server 0.6.1\n",
            "Uninstalling tensorboard-data-server-0.6.1:\n",
            "  Successfully uninstalled tensorboard-data-server-0.6.1\n",
            "Found existing installation: tensorboard-plugin-wit 1.8.1\n",
            "Uninstalling tensorboard-plugin-wit-1.8.1:\n",
            "  Successfully uninstalled tensorboard-plugin-wit-1.8.1\n",
            "Found existing installation: tensorflow 2.8.2+zzzcolab20220719082949\n",
            "Uninstalling tensorflow-2.8.2+zzzcolab20220719082949:\n",
            "  Successfully uninstalled tensorflow-2.8.2+zzzcolab20220719082949\n",
            "Found existing installation: tensorflow-datasets 4.6.0\n",
            "Uninstalling tensorflow-datasets-4.6.0:\n",
            "  Successfully uninstalled tensorflow-datasets-4.6.0\n",
            "Found existing installation: tensorflow-estimator 2.8.0\n",
            "Uninstalling tensorflow-estimator-2.8.0:\n",
            "  Successfully uninstalled tensorflow-estimator-2.8.0\n",
            "Found existing installation: tensorflow-gcs-config 2.8.0\n",
            "Uninstalling tensorflow-gcs-config-2.8.0:\n",
            "  Successfully uninstalled tensorflow-gcs-config-2.8.0\n",
            "Found existing installation: tensorflow-hub 0.12.0\n",
            "Uninstalling tensorflow-hub-0.12.0:\n",
            "  Successfully uninstalled tensorflow-hub-0.12.0\n",
            "Found existing installation: tensorflow-io-gcs-filesystem 0.26.0\n",
            "Uninstalling tensorflow-io-gcs-filesystem-0.26.0:\n",
            "  Successfully uninstalled tensorflow-io-gcs-filesystem-0.26.0\n",
            "Found existing installation: tensorflow-metadata 1.9.0\n",
            "Uninstalling tensorflow-metadata-1.9.0:\n",
            "  Successfully uninstalled tensorflow-metadata-1.9.0\n",
            "Found existing installation: tensorflow-probability 0.16.0\n",
            "Uninstalling tensorflow-probability-0.16.0:\n",
            "  Successfully uninstalled tensorflow-probability-0.16.0\n",
            "Looking in indexes: https://pypi.org/simple, https://us-python.pkg.dev/colab-wheels/public/simple/\n",
            "Collecting tensorflow==2.1.0\n",
            "  Downloading tensorflow-2.1.0-cp37-cp37m-manylinux2010_x86_64.whl (421.8 MB)\n",
            "\u001b[K     |████████████████████████████████| 421.8 MB 25 kB/s \n",
            "\u001b[?25hRequirement already satisfied: opt-einsum>=2.3.2 in /usr/local/lib/python3.7/dist-packages (from tensorflow==2.1.0) (3.3.0)\n",
            "Requirement already satisfied: absl-py>=0.7.0 in /usr/local/lib/python3.7/dist-packages (from tensorflow==2.1.0) (1.2.0)\n",
            "Requirement already satisfied: termcolor>=1.1.0 in /usr/local/lib/python3.7/dist-packages (from tensorflow==2.1.0) (1.1.0)\n",
            "Requirement already satisfied: wrapt>=1.11.1 in /usr/local/lib/python3.7/dist-packages (from tensorflow==2.1.0) (1.14.1)\n",
            "Collecting scipy==1.4.1\n",
            "  Downloading scipy-1.4.1-cp37-cp37m-manylinux1_x86_64.whl (26.1 MB)\n",
            "\u001b[K     |████████████████████████████████| 26.1 MB 1.3 MB/s \n",
            "\u001b[?25hRequirement already satisfied: astor>=0.6.0 in /usr/local/lib/python3.7/dist-packages (from tensorflow==2.1.0) (0.8.1)\n",
            "Collecting tensorboard<2.2.0,>=2.1.0\n",
            "  Downloading tensorboard-2.1.1-py3-none-any.whl (3.8 MB)\n",
            "\u001b[K     |████████████████████████████████| 3.8 MB 48.1 MB/s \n",
            "\u001b[?25hRequirement already satisfied: six>=1.12.0 in /usr/local/lib/python3.7/dist-packages (from tensorflow==2.1.0) (1.15.0)\n",
            "Collecting keras-applications>=1.0.8\n",
            "  Downloading Keras_Applications-1.0.8-py3-none-any.whl (50 kB)\n",
            "\u001b[K     |████████████████████████████████| 50 kB 6.3 MB/s \n",
            "\u001b[?25hCollecting gast==0.2.2\n",
            "  Downloading gast-0.2.2.tar.gz (10 kB)\n",
            "Collecting tensorflow-estimator<2.2.0,>=2.1.0rc0\n",
            "  Downloading tensorflow_estimator-2.1.0-py2.py3-none-any.whl (448 kB)\n",
            "\u001b[K     |████████████████████████████████| 448 kB 58.6 MB/s \n",
            "\u001b[?25hRequirement already satisfied: wheel>=0.26 in /usr/local/lib/python3.7/dist-packages (from tensorflow==2.1.0) (0.37.1)\n",
            "Requirement already satisfied: google-pasta>=0.1.6 in /usr/local/lib/python3.7/dist-packages (from tensorflow==2.1.0) (0.2.0)\n",
            "Requirement already satisfied: keras-preprocessing>=1.1.0 in /usr/local/lib/python3.7/dist-packages (from tensorflow==2.1.0) (1.1.2)\n",
            "Requirement already satisfied: protobuf>=3.8.0 in /usr/local/lib/python3.7/dist-packages (from tensorflow==2.1.0) (3.17.3)\n",
            "Requirement already satisfied: grpcio>=1.8.6 in /usr/local/lib/python3.7/dist-packages (from tensorflow==2.1.0) (1.47.0)\n",
            "Requirement already satisfied: numpy<2.0,>=1.16.0 in /usr/local/lib/python3.7/dist-packages (from tensorflow==2.1.0) (1.21.6)\n",
            "Requirement already satisfied: h5py in /usr/local/lib/python3.7/dist-packages (from keras-applications>=1.0.8->tensorflow==2.1.0) (3.1.0)\n",
            "Requirement already satisfied: setuptools>=41.0.0 in /usr/local/lib/python3.7/dist-packages (from tensorboard<2.2.0,>=2.1.0->tensorflow==2.1.0) (57.4.0)\n",
            "Requirement already satisfied: requests<3,>=2.21.0 in /usr/local/lib/python3.7/dist-packages (from tensorboard<2.2.0,>=2.1.0->tensorflow==2.1.0) (2.23.0)\n",
            "Requirement already satisfied: markdown>=2.6.8 in /usr/local/lib/python3.7/dist-packages (from tensorboard<2.2.0,>=2.1.0->tensorflow==2.1.0) (3.4.1)\n",
            "Requirement already satisfied: google-auth-oauthlib<0.5,>=0.4.1 in /usr/local/lib/python3.7/dist-packages (from tensorboard<2.2.0,>=2.1.0->tensorflow==2.1.0) (0.4.6)\n",
            "Requirement already satisfied: werkzeug>=0.11.15 in /usr/local/lib/python3.7/dist-packages (from tensorboard<2.2.0,>=2.1.0->tensorflow==2.1.0) (1.0.1)\n",
            "Requirement already satisfied: google-auth<2,>=1.6.3 in /usr/local/lib/python3.7/dist-packages (from tensorboard<2.2.0,>=2.1.0->tensorflow==2.1.0) (1.35.0)\n",
            "Requirement already satisfied: pyasn1-modules>=0.2.1 in /usr/local/lib/python3.7/dist-packages (from google-auth<2,>=1.6.3->tensorboard<2.2.0,>=2.1.0->tensorflow==2.1.0) (0.2.8)\n",
            "Requirement already satisfied: cachetools<5.0,>=2.0.0 in /usr/local/lib/python3.7/dist-packages (from google-auth<2,>=1.6.3->tensorboard<2.2.0,>=2.1.0->tensorflow==2.1.0) (4.2.4)\n",
            "Requirement already satisfied: rsa<5,>=3.1.4 in /usr/local/lib/python3.7/dist-packages (from google-auth<2,>=1.6.3->tensorboard<2.2.0,>=2.1.0->tensorflow==2.1.0) (4.9)\n",
            "Requirement already satisfied: requests-oauthlib>=0.7.0 in /usr/local/lib/python3.7/dist-packages (from google-auth-oauthlib<0.5,>=0.4.1->tensorboard<2.2.0,>=2.1.0->tensorflow==2.1.0) (1.3.1)\n",
            "Requirement already satisfied: importlib-metadata>=4.4 in /usr/local/lib/python3.7/dist-packages (from markdown>=2.6.8->tensorboard<2.2.0,>=2.1.0->tensorflow==2.1.0) (4.12.0)\n",
            "Requirement already satisfied: typing-extensions>=3.6.4 in /usr/local/lib/python3.7/dist-packages (from importlib-metadata>=4.4->markdown>=2.6.8->tensorboard<2.2.0,>=2.1.0->tensorflow==2.1.0) (4.1.1)\n",
            "Requirement already satisfied: zipp>=0.5 in /usr/local/lib/python3.7/dist-packages (from importlib-metadata>=4.4->markdown>=2.6.8->tensorboard<2.2.0,>=2.1.0->tensorflow==2.1.0) (3.8.1)\n",
            "Requirement already satisfied: pyasn1<0.5.0,>=0.4.6 in /usr/local/lib/python3.7/dist-packages (from pyasn1-modules>=0.2.1->google-auth<2,>=1.6.3->tensorboard<2.2.0,>=2.1.0->tensorflow==2.1.0) (0.4.8)\n",
            "Requirement already satisfied: idna<3,>=2.5 in /usr/local/lib/python3.7/dist-packages (from requests<3,>=2.21.0->tensorboard<2.2.0,>=2.1.0->tensorflow==2.1.0) (2.10)\n",
            "Requirement already satisfied: chardet<4,>=3.0.2 in /usr/local/lib/python3.7/dist-packages (from requests<3,>=2.21.0->tensorboard<2.2.0,>=2.1.0->tensorflow==2.1.0) (3.0.4)\n",
            "Requirement already satisfied: certifi>=2017.4.17 in /usr/local/lib/python3.7/dist-packages (from requests<3,>=2.21.0->tensorboard<2.2.0,>=2.1.0->tensorflow==2.1.0) (2022.6.15)\n",
            "Requirement already satisfied: urllib3!=1.25.0,!=1.25.1,<1.26,>=1.21.1 in /usr/local/lib/python3.7/dist-packages (from requests<3,>=2.21.0->tensorboard<2.2.0,>=2.1.0->tensorflow==2.1.0) (1.24.3)\n",
            "Requirement already satisfied: oauthlib>=3.0.0 in /usr/local/lib/python3.7/dist-packages (from requests-oauthlib>=0.7.0->google-auth-oauthlib<0.5,>=0.4.1->tensorboard<2.2.0,>=2.1.0->tensorflow==2.1.0) (3.2.0)\n",
            "Requirement already satisfied: cached-property in /usr/local/lib/python3.7/dist-packages (from h5py->keras-applications>=1.0.8->tensorflow==2.1.0) (1.5.2)\n",
            "Building wheels for collected packages: gast\n",
            "  Building wheel for gast (setup.py) ... \u001b[?25l\u001b[?25hdone\n",
            "  Created wheel for gast: filename=gast-0.2.2-py3-none-any.whl size=7554 sha256=f40735c2be8e1eabc4859d7b746d86eab9c0a623687e236850725327af273d72\n",
            "  Stored in directory: /root/.cache/pip/wheels/21/7f/02/420f32a803f7d0967b48dd823da3f558c5166991bfd204eef3\n",
            "Successfully built gast\n",
            "Installing collected packages: tensorflow-estimator, tensorboard, scipy, keras-applications, gast, tensorflow\n",
            "  Attempting uninstall: scipy\n",
            "    Found existing installation: scipy 1.7.3\n",
            "    Uninstalling scipy-1.7.3:\n",
            "      Successfully uninstalled scipy-1.7.3\n",
            "  Attempting uninstall: gast\n",
            "    Found existing installation: gast 0.5.3\n",
            "    Uninstalling gast-0.5.3:\n",
            "      Successfully uninstalled gast-0.5.3\n",
            "\u001b[31mERROR: pip's dependency resolver does not currently take into account all the packages that are installed. This behaviour is the source of the following dependency conflicts.\n",
            "pymc3 3.11.5 requires scipy<1.8.0,>=1.7.3, but you have scipy 1.4.1 which is incompatible.\n",
            "jaxlib 0.3.14+cuda11.cudnn805 requires scipy>=1.5, but you have scipy 1.4.1 which is incompatible.\n",
            "jax 0.3.14 requires scipy>=1.5, but you have scipy 1.4.1 which is incompatible.\u001b[0m\n",
            "Successfully installed gast-0.2.2 keras-applications-1.0.8 scipy-1.4.1 tensorboard-2.1.1 tensorflow-2.1.0 tensorflow-estimator-2.1.0\n"
          ]
        }
      ]
    },
    {
      "cell_type": "markdown",
      "source": [
        "## 必要なライブラリを取得"
      ],
      "metadata": {
        "id": "5bBbldgt-2Dt"
      }
    },
    {
      "cell_type": "code",
      "source": [
        "%%bash\n",
        "git clone https://github.com/patlevin/tfjs-to-tf.git \n",
        "cd tfjs-to-tf \n",
        "pip install . --no-deps"
      ],
      "metadata": {
        "colab": {
          "base_uri": "https://localhost:8080/"
        },
        "id": "wy1WqihooPgc",
        "outputId": "6c028653-0660-429d-8205-a20e58e22e4b"
      },
      "execution_count": 2,
      "outputs": [
        {
          "output_type": "stream",
          "name": "stdout",
          "text": [
            "Looking in indexes: https://pypi.org/simple, https://us-python.pkg.dev/colab-wheels/public/simple/\n",
            "Processing /content/tfjs-to-tf\n",
            "Building wheels for collected packages: tfjs-graph-converter\n",
            "  Building wheel for tfjs-graph-converter (setup.py): started\n",
            "  Building wheel for tfjs-graph-converter (setup.py): finished with status 'done'\n",
            "  Created wheel for tfjs-graph-converter: filename=tfjs_graph_converter-1.6.1-py3-none-any.whl size=33886 sha256=cc89971c12436461491143bc8b3e3259900fb887586264473bf0b9f986fa2d03\n",
            "  Stored in directory: /root/.cache/pip/wheels/f5/3b/e9/65ebe9fa06618c76ebef4b82669e3442b0a77c97e91fc3e27c\n",
            "Successfully built tfjs-graph-converter\n",
            "Installing collected packages: tfjs-graph-converter\n",
            "Successfully installed tfjs-graph-converter-1.6.1\n"
          ]
        },
        {
          "output_type": "stream",
          "name": "stderr",
          "text": [
            "Cloning into 'tfjs-to-tf'...\n",
            "  DEPRECATION: A future pip version will change local packages to be built in-place without first copying to a temporary directory. We recommend you use --use-feature=in-tree-build to test your packages with this new behavior before it becomes the default.\n",
            "   pip 21.3 will remove support for this functionality. You can find discussion regarding this at https://github.com/pypa/pip/issues/7555.\n"
          ]
        }
      ]
    },
    {
      "cell_type": "code",
      "source": [
        "%%bash\n",
        "git clone https://github.com/atomicbits/posenet-python.git\n",
        "cd /content/posenet-python\n",
        "mkdir -p output\n",
        "mkdir -p images\n",
        "wget \"https://unsplash.com/photos/OFyh9TpMyM8/download?ixid=MnwxMjA3fDB8MXxhbGx8fHx8fHx8fHwxNjYwNjExMDAz&force=true&w=1920\" -O images/test.jpg # 適当な人が写った画像が1枚以上必要"
      ],
      "metadata": {
        "colab": {
          "base_uri": "https://localhost:8080/"
        },
        "id": "z-IqcjQkoz8E",
        "outputId": "98de1c7d-eb45-49b1-8bde-828d4d320a07"
      },
      "execution_count": 3,
      "outputs": [
        {
          "output_type": "stream",
          "name": "stderr",
          "text": [
            "Cloning into 'posenet-python'...\n",
            "--2022-08-17 03:53:04--  https://unsplash.com/photos/OFyh9TpMyM8/download?ixid=MnwxMjA3fDB8MXxhbGx8fHx8fHx8fHwxNjYwNjExMDAz&force=true&w=1920\n",
            "Resolving unsplash.com (unsplash.com)... 151.101.65.181, 151.101.129.181, 151.101.193.181, ...\n",
            "Connecting to unsplash.com (unsplash.com)|151.101.65.181|:443... connected.\n",
            "HTTP request sent, awaiting response... 302 Found\n",
            "Location: https://images.unsplash.com/photo-1541625602330-2277a4c46182?ixlib=rb-1.2.1&dl=coen-van-de-broek-OFyh9TpMyM8-unsplash.jpg&w=1920&q=80&fm=jpg&crop=entropy&cs=tinysrgb [following]\n",
            "--2022-08-17 03:53:04--  https://images.unsplash.com/photo-1541625602330-2277a4c46182?ixlib=rb-1.2.1&dl=coen-van-de-broek-OFyh9TpMyM8-unsplash.jpg&w=1920&q=80&fm=jpg&crop=entropy&cs=tinysrgb\n",
            "Resolving images.unsplash.com (images.unsplash.com)... 146.75.34.208, 2a04:4e42:79::720\n",
            "Connecting to images.unsplash.com (images.unsplash.com)|146.75.34.208|:443... connected.\n",
            "HTTP request sent, awaiting response... 200 OK\n",
            "Length: 348978 (341K) [image/jpeg]\n",
            "Saving to: ‘images/test.jpg’\n",
            "\n",
            "     0K .......... .......... .......... .......... .......... 14% 3.46M 0s\n",
            "    50K .......... .......... .......... .......... .......... 29% 4.68M 0s\n",
            "   100K .......... .......... .......... .......... .......... 44% 16.0M 0s\n",
            "   150K .......... .......... .......... .......... .......... 58% 34.4M 0s\n",
            "   200K .......... .......... .......... .......... .......... 73% 6.51M 0s\n",
            "   250K .......... .......... .......... .......... .......... 88% 32.4M 0s\n",
            "   300K .......... .......... .......... ..........           100% 33.7M=0.04s\n",
            "\n",
            "2022-08-17 03:53:04 (8.49 MB/s) - ‘images/test.jpg’ saved [348978/348978]\n",
            "\n"
          ]
        }
      ]
    },
    {
      "cell_type": "markdown",
      "source": [
        "# 推論モデルの変換"
      ],
      "metadata": {
        "id": "VQtknU2g_Lgt"
      }
    },
    {
      "cell_type": "markdown",
      "source": [
        "## TensorFlow.js -> FrozenGraph"
      ],
      "metadata": {
        "id": "5AOdvQnr_Pvu"
      }
    },
    {
      "cell_type": "code",
      "source": [
        "%cd /content/posenet-python"
      ],
      "metadata": {
        "colab": {
          "base_uri": "https://localhost:8080/"
        },
        "id": "yikD1QAHtaLw",
        "outputId": "60088278-9686-48ac-8623-c9df7744fc9d"
      },
      "execution_count": 4,
      "outputs": [
        {
          "output_type": "stream",
          "name": "stdout",
          "text": [
            "/content/posenet-python\n"
          ]
        }
      ]
    },
    {
      "cell_type": "code",
      "source": [
        "%%bash\n",
        "pip install tensorflowjs\n",
        "python3 image_demo.py \\\n",
        "    --model resnet50 \\\n",
        "    --stride 16 \\\n",
        "    --image_dir ./images \\\n",
        "    --output_dir ./output"
      ],
      "metadata": {
        "colab": {
          "base_uri": "https://localhost:8080/"
        },
        "id": "k6c5wk6dpCWf",
        "outputId": "1d11e525-a01a-451e-e9a9-38dc4e408cd0"
      },
      "execution_count": 5,
      "outputs": [
        {
          "output_type": "stream",
          "name": "stdout",
          "text": [
            "Looking in indexes: https://pypi.org/simple, https://us-python.pkg.dev/colab-wheels/public/simple/\n",
            "Collecting tensorflowjs\n",
            "  Downloading tensorflowjs-3.19.0-py3-none-any.whl (78 kB)\n",
            "Collecting protobuf==3.20.0\n",
            "  Downloading protobuf-3.20.0-cp37-cp37m-manylinux_2_5_x86_64.manylinux1_x86_64.whl (1.0 MB)\n",
            "Collecting packaging~=20.9\n",
            "  Downloading packaging-20.9-py2.py3-none-any.whl (40 kB)\n",
            "Requirement already satisfied: six<2,>=1.12.0 in /usr/local/lib/python3.7/dist-packages (from tensorflowjs) (1.15.0)\n",
            "Requirement already satisfied: tensorflow<3,>=2.1.0 in /usr/local/lib/python3.7/dist-packages (from tensorflowjs) (2.1.0)\n",
            "Collecting tensorflow-hub<0.13,>=0.7.0\n",
            "  Downloading tensorflow_hub-0.12.0-py2.py3-none-any.whl (108 kB)\n",
            "Requirement already satisfied: pyparsing>=2.0.2 in /usr/local/lib/python3.7/dist-packages (from packaging~=20.9->tensorflowjs) (3.0.9)\n",
            "Requirement already satisfied: keras-preprocessing>=1.1.0 in /usr/local/lib/python3.7/dist-packages (from tensorflow<3,>=2.1.0->tensorflowjs) (1.1.2)\n",
            "Requirement already satisfied: wrapt>=1.11.1 in /usr/local/lib/python3.7/dist-packages (from tensorflow<3,>=2.1.0->tensorflowjs) (1.14.1)\n",
            "Requirement already satisfied: scipy==1.4.1 in /usr/local/lib/python3.7/dist-packages (from tensorflow<3,>=2.1.0->tensorflowjs) (1.4.1)\n",
            "Requirement already satisfied: tensorboard<2.2.0,>=2.1.0 in /usr/local/lib/python3.7/dist-packages (from tensorflow<3,>=2.1.0->tensorflowjs) (2.1.1)\n",
            "Requirement already satisfied: gast==0.2.2 in /usr/local/lib/python3.7/dist-packages (from tensorflow<3,>=2.1.0->tensorflowjs) (0.2.2)\n",
            "Requirement already satisfied: wheel>=0.26 in /usr/local/lib/python3.7/dist-packages (from tensorflow<3,>=2.1.0->tensorflowjs) (0.37.1)\n",
            "Requirement already satisfied: google-pasta>=0.1.6 in /usr/local/lib/python3.7/dist-packages (from tensorflow<3,>=2.1.0->tensorflowjs) (0.2.0)\n",
            "Requirement already satisfied: termcolor>=1.1.0 in /usr/local/lib/python3.7/dist-packages (from tensorflow<3,>=2.1.0->tensorflowjs) (1.1.0)\n",
            "Requirement already satisfied: opt-einsum>=2.3.2 in /usr/local/lib/python3.7/dist-packages (from tensorflow<3,>=2.1.0->tensorflowjs) (3.3.0)\n",
            "Requirement already satisfied: grpcio>=1.8.6 in /usr/local/lib/python3.7/dist-packages (from tensorflow<3,>=2.1.0->tensorflowjs) (1.47.0)\n",
            "Requirement already satisfied: astor>=0.6.0 in /usr/local/lib/python3.7/dist-packages (from tensorflow<3,>=2.1.0->tensorflowjs) (0.8.1)\n",
            "Requirement already satisfied: absl-py>=0.7.0 in /usr/local/lib/python3.7/dist-packages (from tensorflow<3,>=2.1.0->tensorflowjs) (1.2.0)\n",
            "Requirement already satisfied: keras-applications>=1.0.8 in /usr/local/lib/python3.7/dist-packages (from tensorflow<3,>=2.1.0->tensorflowjs) (1.0.8)\n",
            "Requirement already satisfied: numpy<2.0,>=1.16.0 in /usr/local/lib/python3.7/dist-packages (from tensorflow<3,>=2.1.0->tensorflowjs) (1.21.6)\n",
            "Requirement already satisfied: tensorflow-estimator<2.2.0,>=2.1.0rc0 in /usr/local/lib/python3.7/dist-packages (from tensorflow<3,>=2.1.0->tensorflowjs) (2.1.0)\n",
            "Requirement already satisfied: h5py in /usr/local/lib/python3.7/dist-packages (from keras-applications>=1.0.8->tensorflow<3,>=2.1.0->tensorflowjs) (3.1.0)\n",
            "Requirement already satisfied: markdown>=2.6.8 in /usr/local/lib/python3.7/dist-packages (from tensorboard<2.2.0,>=2.1.0->tensorflow<3,>=2.1.0->tensorflowjs) (3.4.1)\n",
            "Requirement already satisfied: requests<3,>=2.21.0 in /usr/local/lib/python3.7/dist-packages (from tensorboard<2.2.0,>=2.1.0->tensorflow<3,>=2.1.0->tensorflowjs) (2.23.0)\n",
            "Requirement already satisfied: setuptools>=41.0.0 in /usr/local/lib/python3.7/dist-packages (from tensorboard<2.2.0,>=2.1.0->tensorflow<3,>=2.1.0->tensorflowjs) (57.4.0)\n",
            "Requirement already satisfied: werkzeug>=0.11.15 in /usr/local/lib/python3.7/dist-packages (from tensorboard<2.2.0,>=2.1.0->tensorflow<3,>=2.1.0->tensorflowjs) (1.0.1)\n",
            "Requirement already satisfied: google-auth-oauthlib<0.5,>=0.4.1 in /usr/local/lib/python3.7/dist-packages (from tensorboard<2.2.0,>=2.1.0->tensorflow<3,>=2.1.0->tensorflowjs) (0.4.6)\n",
            "Requirement already satisfied: google-auth<2,>=1.6.3 in /usr/local/lib/python3.7/dist-packages (from tensorboard<2.2.0,>=2.1.0->tensorflow<3,>=2.1.0->tensorflowjs) (1.35.0)\n",
            "Requirement already satisfied: rsa<5,>=3.1.4 in /usr/local/lib/python3.7/dist-packages (from google-auth<2,>=1.6.3->tensorboard<2.2.0,>=2.1.0->tensorflow<3,>=2.1.0->tensorflowjs) (4.9)\n",
            "Requirement already satisfied: cachetools<5.0,>=2.0.0 in /usr/local/lib/python3.7/dist-packages (from google-auth<2,>=1.6.3->tensorboard<2.2.0,>=2.1.0->tensorflow<3,>=2.1.0->tensorflowjs) (4.2.4)\n",
            "Requirement already satisfied: pyasn1-modules>=0.2.1 in /usr/local/lib/python3.7/dist-packages (from google-auth<2,>=1.6.3->tensorboard<2.2.0,>=2.1.0->tensorflow<3,>=2.1.0->tensorflowjs) (0.2.8)\n",
            "Requirement already satisfied: requests-oauthlib>=0.7.0 in /usr/local/lib/python3.7/dist-packages (from google-auth-oauthlib<0.5,>=0.4.1->tensorboard<2.2.0,>=2.1.0->tensorflow<3,>=2.1.0->tensorflowjs) (1.3.1)\n",
            "Requirement already satisfied: importlib-metadata>=4.4 in /usr/local/lib/python3.7/dist-packages (from markdown>=2.6.8->tensorboard<2.2.0,>=2.1.0->tensorflow<3,>=2.1.0->tensorflowjs) (4.12.0)\n",
            "Requirement already satisfied: zipp>=0.5 in /usr/local/lib/python3.7/dist-packages (from importlib-metadata>=4.4->markdown>=2.6.8->tensorboard<2.2.0,>=2.1.0->tensorflow<3,>=2.1.0->tensorflowjs) (3.8.1)\n",
            "Requirement already satisfied: typing-extensions>=3.6.4 in /usr/local/lib/python3.7/dist-packages (from importlib-metadata>=4.4->markdown>=2.6.8->tensorboard<2.2.0,>=2.1.0->tensorflow<3,>=2.1.0->tensorflowjs) (4.1.1)\n",
            "Requirement already satisfied: pyasn1<0.5.0,>=0.4.6 in /usr/local/lib/python3.7/dist-packages (from pyasn1-modules>=0.2.1->google-auth<2,>=1.6.3->tensorboard<2.2.0,>=2.1.0->tensorflow<3,>=2.1.0->tensorflowjs) (0.4.8)\n",
            "Requirement already satisfied: chardet<4,>=3.0.2 in /usr/local/lib/python3.7/dist-packages (from requests<3,>=2.21.0->tensorboard<2.2.0,>=2.1.0->tensorflow<3,>=2.1.0->tensorflowjs) (3.0.4)\n",
            "Requirement already satisfied: urllib3!=1.25.0,!=1.25.1,<1.26,>=1.21.1 in /usr/local/lib/python3.7/dist-packages (from requests<3,>=2.21.0->tensorboard<2.2.0,>=2.1.0->tensorflow<3,>=2.1.0->tensorflowjs) (1.24.3)\n",
            "Requirement already satisfied: idna<3,>=2.5 in /usr/local/lib/python3.7/dist-packages (from requests<3,>=2.21.0->tensorboard<2.2.0,>=2.1.0->tensorflow<3,>=2.1.0->tensorflowjs) (2.10)\n",
            "Requirement already satisfied: certifi>=2017.4.17 in /usr/local/lib/python3.7/dist-packages (from requests<3,>=2.21.0->tensorboard<2.2.0,>=2.1.0->tensorflow<3,>=2.1.0->tensorflowjs) (2022.6.15)\n",
            "Requirement already satisfied: oauthlib>=3.0.0 in /usr/local/lib/python3.7/dist-packages (from requests-oauthlib>=0.7.0->google-auth-oauthlib<0.5,>=0.4.1->tensorboard<2.2.0,>=2.1.0->tensorflow<3,>=2.1.0->tensorflowjs) (3.2.0)\n",
            "Requirement already satisfied: cached-property in /usr/local/lib/python3.7/dist-packages (from h5py->keras-applications>=1.0.8->tensorflow<3,>=2.1.0->tensorflowjs) (1.5.2)\n",
            "Installing collected packages: protobuf, tensorflow-hub, packaging, tensorflowjs\n",
            "  Attempting uninstall: protobuf\n",
            "    Found existing installation: protobuf 3.17.3\n",
            "    Uninstalling protobuf-3.17.3:\n",
            "      Successfully uninstalled protobuf-3.17.3\n",
            "  Attempting uninstall: packaging\n",
            "    Found existing installation: packaging 21.3\n",
            "    Uninstalling packaging-21.3:\n",
            "      Successfully uninstalled packaging-21.3\n",
            "Successfully installed packaging-20.9 protobuf-3.20.0 tensorflow-hub-0.12.0 tensorflowjs-3.19.0\n",
            "Tensorflow version: 2.1.0\n",
            "Loading ResNet50 model\n",
            "Cannot find tf model path ./_tf_models/posenet/resnet50_float/stride16, converting from tfjs...\n",
            "Cannot find tfjs model path ./_tfjs_models/posenet/resnet50_float/stride16/model-stride16.json, downloading tfjs model...\n",
            "We use the signature key serving_default It should be in the keys list:\n",
            "signature key: serving_default\n",
            "model outputs: {'resnet_v1_50/displacement_bwd_2/BiasAdd:0': <tf.Tensor 'resnet_v1_50/displacement_bwd_2/BiasAdd:0' shape=(1, None, None, 32) dtype=float32>, 'float_heatmaps:0': <tf.Tensor 'float_heatmaps:0' shape=(1, None, None, 17) dtype=float32>, 'resnet_v1_50/displacement_fwd_2/BiasAdd:0': <tf.Tensor 'resnet_v1_50/displacement_fwd_2/BiasAdd:0' shape=(1, None, None, 32) dtype=float32>, 'float_short_offsets:0': <tf.Tensor 'float_short_offsets:0' shape=(1, None, None, 34) dtype=float32>}\n",
            "\n",
            "Results for image: ./images/test.jpg\n",
            "Pose #0, score = 0.321088\n",
            "Keypoint nose, score = 0.999979, coord = [339.2791324  830.53170402]\n",
            "Keypoint leftEye, score = 0.999417, coord = [327.63199794 853.39741204]\n",
            "Keypoint rightEye, score = 0.991833, coord = [313.5021844  828.12284042]\n",
            "Keypoint leftEar, score = 0.109545, coord = [335.62078614 894.44175105]\n",
            "Keypoint rightEar, score = 0.120573, coord = [296.12768383 822.12718576]\n",
            "Keypoint leftShoulder, score = 0.057459, coord = [384.19295476 910.51248244]\n",
            "Keypoint rightShoulder, score = 0.144548, coord = [359.30762881 789.58919813]\n",
            "Keypoint leftElbow, score = 0.001817, coord = [505.73828049 905.45208877]\n",
            "Keypoint rightElbow, score = 0.106533, coord = [462.06446151 747.64515882]\n",
            "Keypoint leftWrist, score = 0.706246, coord = [621.40025893 935.79970225]\n",
            "Keypoint rightWrist, score = 0.020232, coord = [574.33390585 754.69243937]\n",
            "Keypoint leftHip, score = 0.670863, coord = [459.48627076 790.0721276 ]\n",
            "Keypoint rightHip, score = 0.284309, coord = [444.70609071 711.64919343]\n",
            "Keypoint leftKnee, score = 0.237293, coord = [589.07011391 788.89392922]\n",
            "Keypoint rightKnee, score = 0.003315, coord = [594.55251939 751.32794358]\n",
            "Keypoint leftAnkle, score = 0.000895, coord = [796.54889216 740.17783662]\n",
            "Keypoint rightAnkle, score = 0.003635, coord = [766.2400476  685.67405943]\n",
            "Pose #1, score = 0.333218\n",
            "Keypoint nose, score = 0.978677, coord = [264.96976878 467.94604403]\n",
            "Keypoint leftEye, score = 0.021949, coord = [251.32837705 464.27866775]\n",
            "Keypoint rightEye, score = 0.000136, coord = [249.72229528 455.94631626]\n",
            "Keypoint leftEar, score = 0.000051, coord = [250.15422693 465.22046813]\n",
            "Keypoint rightEar, score = 0.999790, coord = [256.34524153 411.79304608]\n",
            "Keypoint leftShoulder, score = 0.740223, coord = [316.99267921 435.66665641]\n",
            "Keypoint rightShoulder, score = 0.000038, coord = [324.711146   305.24072444]\n",
            "Keypoint leftElbow, score = 0.095855, coord = [441.55393125 484.30488678]\n",
            "Keypoint rightElbow, score = 0.226173, coord = [474.20797427 307.21396943]\n",
            "Keypoint leftWrist, score = 0.428974, coord = [548.34753199 544.8124559 ]\n",
            "Keypoint rightWrist, score = 0.727465, coord = [549.68274297 377.2154351 ]\n",
            "Keypoint leftHip, score = 0.347021, coord = [461.73143469 321.14074548]\n",
            "Keypoint rightHip, score = 0.768610, coord = [490.02974523 235.14273616]\n",
            "Keypoint leftKnee, score = 0.016964, coord = [611.56428007 407.93989032]\n",
            "Keypoint rightKnee, score = 0.004845, coord = [649.85881773 305.47580669]\n",
            "Keypoint leftAnkle, score = 0.307188, coord = [774.7061698  346.57499489]\n",
            "Keypoint rightAnkle, score = 0.000747, coord = [859.81936262 301.77060296]\n",
            "Average FPS: 0.09020999166058966\n"
          ]
        },
        {
          "output_type": "stream",
          "name": "stderr",
          "text": [
            "2022-08-17 03:53:16.065019: W tensorflow/stream_executor/platform/default/dso_loader.cc:55] Could not load dynamic library 'libnvinfer.so.6'; dlerror: libnvinfer.so.6: cannot open shared object file: No such file or directory; LD_LIBRARY_PATH: /usr/local/nvidia/lib:/usr/local/nvidia/lib64\n",
            "2022-08-17 03:53:16.065239: W tensorflow/stream_executor/platform/default/dso_loader.cc:55] Could not load dynamic library 'libnvinfer_plugin.so.6'; dlerror: libnvinfer_plugin.so.6: cannot open shared object file: No such file or directory; LD_LIBRARY_PATH: /usr/local/nvidia/lib:/usr/local/nvidia/lib64\n",
            "2022-08-17 03:53:16.065272: W tensorflow/compiler/tf2tensorrt/utils/py_utils.cc:30] Cannot dlopen some TensorRT libraries. If you would like to use Nvidia GPU with TensorRT, please make sure the missing libraries mentioned above are installed properly.\n",
            "WARNING:tensorflow:From /content/posenet-python/posenet/converter/tfjs2tf.py:12: build_tensor_info (from tensorflow.python.saved_model.utils_impl) is deprecated and will be removed in a future version.\n",
            "Instructions for updating:\n",
            "This function will only be available through the v1 compatibility library as tf.compat.v1.saved_model.utils.build_tensor_info or tf.compat.v1.saved_model.build_tensor_info.\n"
          ]
        }
      ]
    },
    {
      "cell_type": "markdown",
      "source": [
        "### tensorflowのバージョンを1.15.2に変更"
      ],
      "metadata": {
        "id": "INkvsZjWWsvk"
      }
    },
    {
      "cell_type": "code",
      "source": [
        "%%bash\n",
        "pip uninstall -y tensorboard-plugin-wit tb-nightly tensorboard tf-estimator-nightly tensorflow-gpu tensorflow tf-nightly tensorflow_estimator\n",
        "pip install tensorflow==1.15.2"
      ],
      "metadata": {
        "colab": {
          "base_uri": "https://localhost:8080/"
        },
        "id": "5O9h2q06pFW0",
        "outputId": "a0197bb7-2f9a-4a55-82d1-efac65cd19b1"
      },
      "execution_count": 6,
      "outputs": [
        {
          "output_type": "stream",
          "name": "stdout",
          "text": [
            "Found existing installation: tensorboard 2.1.1\n",
            "Uninstalling tensorboard-2.1.1:\n",
            "  Successfully uninstalled tensorboard-2.1.1\n",
            "Found existing installation: tensorflow 2.1.0\n",
            "Uninstalling tensorflow-2.1.0:\n",
            "  Successfully uninstalled tensorflow-2.1.0\n",
            "Found existing installation: tensorflow-estimator 2.1.0\n",
            "Uninstalling tensorflow-estimator-2.1.0:\n",
            "  Successfully uninstalled tensorflow-estimator-2.1.0\n",
            "Looking in indexes: https://pypi.org/simple, https://us-python.pkg.dev/colab-wheels/public/simple/\n",
            "Collecting tensorflow==1.15.2\n",
            "  Downloading tensorflow-1.15.2-cp37-cp37m-manylinux2010_x86_64.whl (110.5 MB)\n",
            "Collecting tensorboard<1.16.0,>=1.15.0\n",
            "  Downloading tensorboard-1.15.0-py3-none-any.whl (3.8 MB)\n",
            "Requirement already satisfied: wrapt>=1.11.1 in /usr/local/lib/python3.7/dist-packages (from tensorflow==1.15.2) (1.14.1)\n",
            "Requirement already satisfied: gast==0.2.2 in /usr/local/lib/python3.7/dist-packages (from tensorflow==1.15.2) (0.2.2)\n",
            "Requirement already satisfied: astor>=0.6.0 in /usr/local/lib/python3.7/dist-packages (from tensorflow==1.15.2) (0.8.1)\n",
            "Collecting tensorflow-estimator==1.15.1\n",
            "  Downloading tensorflow_estimator-1.15.1-py2.py3-none-any.whl (503 kB)\n",
            "Requirement already satisfied: grpcio>=1.8.6 in /usr/local/lib/python3.7/dist-packages (from tensorflow==1.15.2) (1.47.0)\n",
            "Requirement already satisfied: protobuf>=3.6.1 in /usr/local/lib/python3.7/dist-packages (from tensorflow==1.15.2) (3.20.0)\n",
            "Requirement already satisfied: six>=1.10.0 in /usr/local/lib/python3.7/dist-packages (from tensorflow==1.15.2) (1.15.0)\n",
            "Requirement already satisfied: absl-py>=0.7.0 in /usr/local/lib/python3.7/dist-packages (from tensorflow==1.15.2) (1.2.0)\n",
            "Requirement already satisfied: numpy<2.0,>=1.16.0 in /usr/local/lib/python3.7/dist-packages (from tensorflow==1.15.2) (1.21.6)\n",
            "Requirement already satisfied: keras-preprocessing>=1.0.5 in /usr/local/lib/python3.7/dist-packages (from tensorflow==1.15.2) (1.1.2)\n",
            "Requirement already satisfied: termcolor>=1.1.0 in /usr/local/lib/python3.7/dist-packages (from tensorflow==1.15.2) (1.1.0)\n",
            "Requirement already satisfied: opt-einsum>=2.3.2 in /usr/local/lib/python3.7/dist-packages (from tensorflow==1.15.2) (3.3.0)\n",
            "Requirement already satisfied: keras-applications>=1.0.8 in /usr/local/lib/python3.7/dist-packages (from tensorflow==1.15.2) (1.0.8)\n",
            "Requirement already satisfied: google-pasta>=0.1.6 in /usr/local/lib/python3.7/dist-packages (from tensorflow==1.15.2) (0.2.0)\n",
            "Requirement already satisfied: wheel>=0.26 in /usr/local/lib/python3.7/dist-packages (from tensorflow==1.15.2) (0.37.1)\n",
            "Requirement already satisfied: h5py in /usr/local/lib/python3.7/dist-packages (from keras-applications>=1.0.8->tensorflow==1.15.2) (3.1.0)\n",
            "Requirement already satisfied: werkzeug>=0.11.15 in /usr/local/lib/python3.7/dist-packages (from tensorboard<1.16.0,>=1.15.0->tensorflow==1.15.2) (1.0.1)\n",
            "Requirement already satisfied: markdown>=2.6.8 in /usr/local/lib/python3.7/dist-packages (from tensorboard<1.16.0,>=1.15.0->tensorflow==1.15.2) (3.4.1)\n",
            "Requirement already satisfied: setuptools>=41.0.0 in /usr/local/lib/python3.7/dist-packages (from tensorboard<1.16.0,>=1.15.0->tensorflow==1.15.2) (57.4.0)\n",
            "Requirement already satisfied: importlib-metadata>=4.4 in /usr/local/lib/python3.7/dist-packages (from markdown>=2.6.8->tensorboard<1.16.0,>=1.15.0->tensorflow==1.15.2) (4.12.0)\n",
            "Requirement already satisfied: zipp>=0.5 in /usr/local/lib/python3.7/dist-packages (from importlib-metadata>=4.4->markdown>=2.6.8->tensorboard<1.16.0,>=1.15.0->tensorflow==1.15.2) (3.8.1)\n",
            "Requirement already satisfied: typing-extensions>=3.6.4 in /usr/local/lib/python3.7/dist-packages (from importlib-metadata>=4.4->markdown>=2.6.8->tensorboard<1.16.0,>=1.15.0->tensorflow==1.15.2) (4.1.1)\n",
            "Requirement already satisfied: cached-property in /usr/local/lib/python3.7/dist-packages (from h5py->keras-applications>=1.0.8->tensorflow==1.15.2) (1.5.2)\n",
            "Installing collected packages: tensorflow-estimator, tensorboard, tensorflow\n",
            "Successfully installed tensorboard-1.15.0 tensorflow-1.15.2 tensorflow-estimator-1.15.1\n"
          ]
        },
        {
          "output_type": "stream",
          "name": "stderr",
          "text": [
            "WARNING: Skipping tensorboard-plugin-wit as it is not installed.\n",
            "WARNING: Skipping tb-nightly as it is not installed.\n",
            "WARNING: Skipping tf-estimator-nightly as it is not installed.\n",
            "WARNING: Skipping tensorflow-gpu as it is not installed.\n",
            "WARNING: Skipping tf-nightly as it is not installed.\n",
            "ERROR: pip's dependency resolver does not currently take into account all the packages that are installed. This behaviour is the source of the following dependency conflicts.\n",
            "tensorflowjs 3.19.0 requires tensorflow<3,>=2.1.0, but you have tensorflow 1.15.2 which is incompatible.\n",
            "kapre 0.3.7 requires tensorflow>=2.0.0, but you have tensorflow 1.15.2 which is incompatible.\n"
          ]
        }
      ]
    },
    {
      "cell_type": "code",
      "source": [
        "import sys\n",
        "import tensorflow as tf\n",
        "from tensorflow.tools.graph_transforms import TransformGraph # TF==1.15.2\n",
        "from tensorflow.python.platform import gfile\n",
        "from tensorflow.core.protobuf import saved_model_pb2\n",
        "from tensorflow.python.util import compat\n",
        "\n",
        "with tf.compat.v1.Session() as sess:\n",
        "    inputs = tf.compat.v1.placeholder(tf.float32, shape=[1, 225, 225, 3], name='image')\n",
        "\n",
        "    with gfile.FastGFile('/content/posenet-python/_tf_models/posenet/resnet50_float/stride16/saved_model.pb', 'rb') as f:\n",
        "        data = compat.as_bytes(f.read())\n",
        "        sm = saved_model_pb2.SavedModel()\n",
        "        sm.ParseFromString(data)\n",
        "        if 1 != len(sm.meta_graphs):\n",
        "            print('More than one graph found. Not sure which to write')\n",
        "            sys.exit(1)\n",
        "\n",
        "    tf.graph_util.import_graph_def(sm.meta_graphs[0].graph_def, input_map={'sub_2:0': inputs}, name='')\n",
        "    print([n for n in tf.compat.v1.get_default_graph().as_graph_def().node if n.name == 'image'])\n",
        "\n",
        "    optimized_graph_def = TransformGraph(\n",
        "                              tf.compat.v1.get_default_graph().as_graph_def(),\n",
        "                              'image',\n",
        "                              ['float_heatmaps','float_short_offsets','resnet_v1_50/displacement_fwd_2/BiasAdd','resnet_v1_50/displacement_bwd_2/BiasAdd'],\n",
        "                              ['strip_unused_nodes(type=float, shape=\"1,225,225,3\")'])\n",
        "\n",
        "    tf.io.write_graph(optimized_graph_def, './', 'saved_model.pb', as_text=False)\n"
      ],
      "metadata": {
        "colab": {
          "base_uri": "https://localhost:8080/"
        },
        "id": "M_29ir7dqXF0",
        "outputId": "a49aeab3-c708-4054-eaa9-99232d9cfaa1"
      },
      "execution_count": 7,
      "outputs": [
        {
          "output_type": "stream",
          "name": "stderr",
          "text": [
            "WARNING:tensorflow:From <ipython-input-7-aaaa97089e7a>:11: FastGFile.__init__ (from tensorflow.python.platform.gfile) is deprecated and will be removed in a future version.\n",
            "Instructions for updating:\n",
            "Use tf.gfile.GFile.\n"
          ]
        },
        {
          "output_type": "stream",
          "name": "stdout",
          "text": [
            "[name: \"image\"\n",
            "op: \"Placeholder\"\n",
            "attr {\n",
            "  key: \"dtype\"\n",
            "  value {\n",
            "    type: DT_FLOAT\n",
            "  }\n",
            "}\n",
            "attr {\n",
            "  key: \"shape\"\n",
            "  value {\n",
            "    shape {\n",
            "      dim {\n",
            "        size: 1\n",
            "      }\n",
            "      dim {\n",
            "        size: 225\n",
            "      }\n",
            "      dim {\n",
            "        size: 225\n",
            "      }\n",
            "      dim {\n",
            "        size: 3\n",
            "      }\n",
            "    }\n",
            "  }\n",
            "}\n",
            "]\n"
          ]
        }
      ]
    },
    {
      "cell_type": "markdown",
      "source": [
        "## FrozenGraph -> SavedModel"
      ],
      "metadata": {
        "id": "oO1od0OkF6Ih"
      }
    },
    {
      "cell_type": "markdown",
      "source": [
        "### tensorflowのバージョンを2.2.0に変更"
      ],
      "metadata": {
        "id": "HB4T3qcE0Awd"
      }
    },
    {
      "cell_type": "code",
      "source": [
        "%%bash\n",
        "pip uninstall -y tensorboard-plugin-wit tb-nightly tensorboard tf-estimator-nightly tensorflow-gpu tensorflow tf-nightly tensorflow_estimator\n",
        "pip install tensorflow==2.2.0"
      ],
      "metadata": {
        "colab": {
          "base_uri": "https://localhost:8080/"
        },
        "id": "guOJCgK5sxxw",
        "outputId": "c657a76f-ad24-41cc-82f6-87a02474a022"
      },
      "execution_count": 8,
      "outputs": [
        {
          "output_type": "stream",
          "name": "stdout",
          "text": [
            "Found existing installation: tensorboard 1.15.0\n",
            "Uninstalling tensorboard-1.15.0:\n",
            "  Successfully uninstalled tensorboard-1.15.0\n",
            "Found existing installation: tensorflow 1.15.2\n",
            "Uninstalling tensorflow-1.15.2:\n",
            "  Successfully uninstalled tensorflow-1.15.2\n",
            "Found existing installation: tensorflow-estimator 1.15.1\n",
            "Uninstalling tensorflow-estimator-1.15.1:\n",
            "  Successfully uninstalled tensorflow-estimator-1.15.1\n",
            "Looking in indexes: https://pypi.org/simple, https://us-python.pkg.dev/colab-wheels/public/simple/\n",
            "Collecting tensorflow==2.2.0\n",
            "  Downloading tensorflow-2.2.0-cp37-cp37m-manylinux2010_x86_64.whl (516.2 MB)\n",
            "Collecting gast==0.3.3\n",
            "  Downloading gast-0.3.3-py2.py3-none-any.whl (9.7 kB)\n",
            "Requirement already satisfied: keras-preprocessing>=1.1.0 in /usr/local/lib/python3.7/dist-packages (from tensorflow==2.2.0) (1.1.2)\n",
            "Collecting tensorboard<2.3.0,>=2.2.0\n",
            "  Downloading tensorboard-2.2.2-py3-none-any.whl (3.0 MB)\n",
            "Requirement already satisfied: google-pasta>=0.1.8 in /usr/local/lib/python3.7/dist-packages (from tensorflow==2.2.0) (0.2.0)\n",
            "Requirement already satisfied: grpcio>=1.8.6 in /usr/local/lib/python3.7/dist-packages (from tensorflow==2.2.0) (1.47.0)\n",
            "Requirement already satisfied: astunparse==1.6.3 in /usr/local/lib/python3.7/dist-packages (from tensorflow==2.2.0) (1.6.3)\n",
            "Requirement already satisfied: wheel>=0.26 in /usr/local/lib/python3.7/dist-packages (from tensorflow==2.2.0) (0.37.1)\n",
            "Requirement already satisfied: numpy<2.0,>=1.16.0 in /usr/local/lib/python3.7/dist-packages (from tensorflow==2.2.0) (1.21.6)\n",
            "Requirement already satisfied: six>=1.12.0 in /usr/local/lib/python3.7/dist-packages (from tensorflow==2.2.0) (1.15.0)\n",
            "Requirement already satisfied: absl-py>=0.7.0 in /usr/local/lib/python3.7/dist-packages (from tensorflow==2.2.0) (1.2.0)\n",
            "Requirement already satisfied: termcolor>=1.1.0 in /usr/local/lib/python3.7/dist-packages (from tensorflow==2.2.0) (1.1.0)\n",
            "Requirement already satisfied: scipy==1.4.1 in /usr/local/lib/python3.7/dist-packages (from tensorflow==2.2.0) (1.4.1)\n",
            "Requirement already satisfied: opt-einsum>=2.3.2 in /usr/local/lib/python3.7/dist-packages (from tensorflow==2.2.0) (3.3.0)\n",
            "Requirement already satisfied: protobuf>=3.8.0 in /usr/local/lib/python3.7/dist-packages (from tensorflow==2.2.0) (3.20.0)\n",
            "Collecting tensorflow-estimator<2.3.0,>=2.2.0\n",
            "  Downloading tensorflow_estimator-2.2.0-py2.py3-none-any.whl (454 kB)\n",
            "Collecting h5py<2.11.0,>=2.10.0\n",
            "  Downloading h5py-2.10.0-cp37-cp37m-manylinux1_x86_64.whl (2.9 MB)\n",
            "Requirement already satisfied: wrapt>=1.11.1 in /usr/local/lib/python3.7/dist-packages (from tensorflow==2.2.0) (1.14.1)\n",
            "Requirement already satisfied: requests<3,>=2.21.0 in /usr/local/lib/python3.7/dist-packages (from tensorboard<2.3.0,>=2.2.0->tensorflow==2.2.0) (2.23.0)\n",
            "Collecting tensorboard-plugin-wit>=1.6.0\n",
            "  Downloading tensorboard_plugin_wit-1.8.1-py3-none-any.whl (781 kB)\n",
            "Requirement already satisfied: werkzeug>=0.11.15 in /usr/local/lib/python3.7/dist-packages (from tensorboard<2.3.0,>=2.2.0->tensorflow==2.2.0) (1.0.1)\n",
            "Requirement already satisfied: setuptools>=41.0.0 in /usr/local/lib/python3.7/dist-packages (from tensorboard<2.3.0,>=2.2.0->tensorflow==2.2.0) (57.4.0)\n",
            "Requirement already satisfied: google-auth-oauthlib<0.5,>=0.4.1 in /usr/local/lib/python3.7/dist-packages (from tensorboard<2.3.0,>=2.2.0->tensorflow==2.2.0) (0.4.6)\n",
            "Requirement already satisfied: google-auth<2,>=1.6.3 in /usr/local/lib/python3.7/dist-packages (from tensorboard<2.3.0,>=2.2.0->tensorflow==2.2.0) (1.35.0)\n",
            "Requirement already satisfied: markdown>=2.6.8 in /usr/local/lib/python3.7/dist-packages (from tensorboard<2.3.0,>=2.2.0->tensorflow==2.2.0) (3.4.1)\n",
            "Requirement already satisfied: pyasn1-modules>=0.2.1 in /usr/local/lib/python3.7/dist-packages (from google-auth<2,>=1.6.3->tensorboard<2.3.0,>=2.2.0->tensorflow==2.2.0) (0.2.8)\n",
            "Requirement already satisfied: cachetools<5.0,>=2.0.0 in /usr/local/lib/python3.7/dist-packages (from google-auth<2,>=1.6.3->tensorboard<2.3.0,>=2.2.0->tensorflow==2.2.0) (4.2.4)\n",
            "Requirement already satisfied: rsa<5,>=3.1.4 in /usr/local/lib/python3.7/dist-packages (from google-auth<2,>=1.6.3->tensorboard<2.3.0,>=2.2.0->tensorflow==2.2.0) (4.9)\n",
            "Requirement already satisfied: requests-oauthlib>=0.7.0 in /usr/local/lib/python3.7/dist-packages (from google-auth-oauthlib<0.5,>=0.4.1->tensorboard<2.3.0,>=2.2.0->tensorflow==2.2.0) (1.3.1)\n",
            "Requirement already satisfied: importlib-metadata>=4.4 in /usr/local/lib/python3.7/dist-packages (from markdown>=2.6.8->tensorboard<2.3.0,>=2.2.0->tensorflow==2.2.0) (4.12.0)\n",
            "Requirement already satisfied: typing-extensions>=3.6.4 in /usr/local/lib/python3.7/dist-packages (from importlib-metadata>=4.4->markdown>=2.6.8->tensorboard<2.3.0,>=2.2.0->tensorflow==2.2.0) (4.1.1)\n",
            "Requirement already satisfied: zipp>=0.5 in /usr/local/lib/python3.7/dist-packages (from importlib-metadata>=4.4->markdown>=2.6.8->tensorboard<2.3.0,>=2.2.0->tensorflow==2.2.0) (3.8.1)\n",
            "Requirement already satisfied: pyasn1<0.5.0,>=0.4.6 in /usr/local/lib/python3.7/dist-packages (from pyasn1-modules>=0.2.1->google-auth<2,>=1.6.3->tensorboard<2.3.0,>=2.2.0->tensorflow==2.2.0) (0.4.8)\n",
            "Requirement already satisfied: chardet<4,>=3.0.2 in /usr/local/lib/python3.7/dist-packages (from requests<3,>=2.21.0->tensorboard<2.3.0,>=2.2.0->tensorflow==2.2.0) (3.0.4)\n",
            "Requirement already satisfied: urllib3!=1.25.0,!=1.25.1,<1.26,>=1.21.1 in /usr/local/lib/python3.7/dist-packages (from requests<3,>=2.21.0->tensorboard<2.3.0,>=2.2.0->tensorflow==2.2.0) (1.24.3)\n",
            "Requirement already satisfied: idna<3,>=2.5 in /usr/local/lib/python3.7/dist-packages (from requests<3,>=2.21.0->tensorboard<2.3.0,>=2.2.0->tensorflow==2.2.0) (2.10)\n",
            "Requirement already satisfied: certifi>=2017.4.17 in /usr/local/lib/python3.7/dist-packages (from requests<3,>=2.21.0->tensorboard<2.3.0,>=2.2.0->tensorflow==2.2.0) (2022.6.15)\n",
            "Requirement already satisfied: oauthlib>=3.0.0 in /usr/local/lib/python3.7/dist-packages (from requests-oauthlib>=0.7.0->google-auth-oauthlib<0.5,>=0.4.1->tensorboard<2.3.0,>=2.2.0->tensorflow==2.2.0) (3.2.0)\n",
            "Installing collected packages: tensorboard-plugin-wit, tensorflow-estimator, tensorboard, h5py, gast, tensorflow\n",
            "  Attempting uninstall: h5py\n",
            "    Found existing installation: h5py 3.1.0\n",
            "    Uninstalling h5py-3.1.0:\n",
            "      Successfully uninstalled h5py-3.1.0\n",
            "  Attempting uninstall: gast\n",
            "    Found existing installation: gast 0.2.2\n",
            "    Uninstalling gast-0.2.2:\n",
            "      Successfully uninstalled gast-0.2.2\n",
            "Successfully installed gast-0.3.3 h5py-2.10.0 tensorboard-2.2.2 tensorboard-plugin-wit-1.8.1 tensorflow-2.2.0 tensorflow-estimator-2.2.0\n"
          ]
        },
        {
          "output_type": "stream",
          "name": "stderr",
          "text": [
            "WARNING: Skipping tensorboard-plugin-wit as it is not installed.\n",
            "WARNING: Skipping tb-nightly as it is not installed.\n",
            "WARNING: Skipping tf-estimator-nightly as it is not installed.\n",
            "WARNING: Skipping tensorflow-gpu as it is not installed.\n",
            "WARNING: Skipping tf-nightly as it is not installed.\n"
          ]
        }
      ]
    },
    {
      "cell_type": "markdown",
      "source": [
        "<font color= \"red\">**※ここで一度ランタイムを再起動してください。**</font>\n",
        "\n"
      ],
      "metadata": {
        "id": "piDFVTWetFvo"
      }
    },
    {
      "cell_type": "code",
      "source": [
        "%cd /content/posenet-python"
      ],
      "metadata": {
        "colab": {
          "base_uri": "https://localhost:8080/"
        },
        "id": "LCMxYlE-tQtH",
        "outputId": "97f958b7-ceec-45c7-d070-c301e94404e3"
      },
      "execution_count": 1,
      "outputs": [
        {
          "output_type": "stream",
          "name": "stdout",
          "text": [
            "/content/posenet-python\n"
          ]
        }
      ]
    },
    {
      "cell_type": "code",
      "source": [
        "import shutil\n",
        "import tensorflow.compat.v1 as tf\n",
        "from tensorflow.python.saved_model import signature_constants\n",
        "from tensorflow.python.saved_model import tag_constants\n",
        "\n",
        "export_dir = './1'\n",
        "graph_pb = 'saved_model.pb'\n",
        "\n",
        "shutil.rmtree(export_dir, ignore_errors=True)\n",
        "\n",
        "builder = tf.saved_model.builder.SavedModelBuilder(export_dir)\n",
        "\n",
        "with tf.io.gfile.GFile(graph_pb, \"rb\") as f:\n",
        "    graph_def = tf.GraphDef()\n",
        "    graph_def.ParseFromString(f.read())\n",
        "\n",
        "sigs = {}\n",
        "\n",
        "with tf.Session(graph=tf.Graph()) as sess:\n",
        "    tf.import_graph_def(graph_def, name=\"\")\n",
        "    g = tf.get_default_graph()\n",
        "    image_tensor = g.get_tensor_by_name(\"image:0\")\n",
        "    heatmaps = g.get_tensor_by_name(\"float_heatmaps/conv:0\")\n",
        "    float_short_offsets = g.get_tensor_by_name(\"float_short_offsets/conv:0\")\n",
        "    displacement_bwd = g.get_tensor_by_name(\"resnet_v1_50/displacement_bwd_2/BiasAdd/conv:0\")\n",
        "    displacement_fwd = g.get_tensor_by_name(\"resnet_v1_50/displacement_fwd_2/BiasAdd/conv:0\")\n",
        "\n",
        "    sigs[signature_constants.DEFAULT_SERVING_SIGNATURE_DEF_KEY] = \\\n",
        "        tf.saved_model.signature_def_utils.predict_signature_def(\n",
        "            {\"input_image\": image_tensor}, \n",
        "            {   \"heatmaps\": heatmaps,\n",
        "                \"float_short_offsets\": float_short_offsets, \n",
        "                \"displacement_bwd\": displacement_bwd, \n",
        "                \"displacement_fwd\": displacement_fwd})\n",
        "\n",
        "    builder.add_meta_graph_and_variables(sess,\n",
        "                                         [tag_constants.SERVING],\n",
        "                                         signature_def_map=sigs)\n",
        "\n",
        "builder.save()\n"
      ],
      "metadata": {
        "colab": {
          "base_uri": "https://localhost:8080/"
        },
        "id": "WW9GNUqQVequ",
        "outputId": "5db5776d-4dca-4c5e-d999-1dc53a580309"
      },
      "execution_count": 2,
      "outputs": [
        {
          "output_type": "stream",
          "name": "stderr",
          "text": [
            "WARNING:tensorflow:From /usr/local/lib/python3.7/dist-packages/tensorflow/python/saved_model/signature_def_utils_impl.py:201: build_tensor_info (from tensorflow.python.saved_model.utils_impl) is deprecated and will be removed in a future version.\n",
            "Instructions for updating:\n",
            "This function will only be available through the v1 compatibility library as tf.compat.v1.saved_model.utils.build_tensor_info or tf.compat.v1.saved_model.build_tensor_info.\n"
          ]
        },
        {
          "output_type": "execute_result",
          "data": {
            "text/plain": [
              "b'./1/saved_model.pb'"
            ]
          },
          "metadata": {},
          "execution_count": 2
        }
      ]
    },
    {
      "cell_type": "code",
      "source": [
        "!saved_model_cli show --dir /content/posenet-python/1 --all"
      ],
      "metadata": {
        "colab": {
          "base_uri": "https://localhost:8080/"
        },
        "id": "RFwqk8x4Xxhf",
        "outputId": "d3a45900-7550-46e0-a4fb-40696a7f9830"
      },
      "execution_count": 3,
      "outputs": [
        {
          "output_type": "stream",
          "name": "stdout",
          "text": [
            "\n",
            "MetaGraphDef with tag-set: 'serve' contains the following SignatureDefs:\n",
            "\n",
            "signature_def['serving_default']:\n",
            "  The given SavedModel SignatureDef contains the following input(s):\n",
            "    inputs['input_image'] tensor_info:\n",
            "        dtype: DT_FLOAT\n",
            "        shape: (1, 225, 225, 3)\n",
            "        name: image:0\n",
            "  The given SavedModel SignatureDef contains the following output(s):\n",
            "    outputs['displacement_bwd'] tensor_info:\n",
            "        dtype: DT_FLOAT\n",
            "        shape: (1, 15, 15, 32)\n",
            "        name: resnet_v1_50/displacement_bwd_2/BiasAdd/conv:0\n",
            "    outputs['displacement_fwd'] tensor_info:\n",
            "        dtype: DT_FLOAT\n",
            "        shape: (1, 15, 15, 32)\n",
            "        name: resnet_v1_50/displacement_fwd_2/BiasAdd/conv:0\n",
            "    outputs['float_short_offsets'] tensor_info:\n",
            "        dtype: DT_FLOAT\n",
            "        shape: (1, 15, 15, 34)\n",
            "        name: float_short_offsets/conv:0\n",
            "    outputs['heatmaps'] tensor_info:\n",
            "        dtype: DT_FLOAT\n",
            "        shape: (1, 15, 15, 17)\n",
            "        name: float_heatmaps/conv:0\n",
            "  Method name is: tensorflow/serving/predict\n"
          ]
        }
      ]
    },
    {
      "cell_type": "markdown",
      "source": [
        "## SavedModel -> TFLite"
      ],
      "metadata": {
        "id": "8iJHcvP0_-uS"
      }
    },
    {
      "cell_type": "markdown",
      "source": [
        "整数量子化時のキャリブレーション用に、人が写った画像を100枚程度/contentにアップロードする。  \n",
        "(下記例ではhumanというディレクトリ内に人が写った画像を100枚用意しました。)\n",
        "\n"
      ],
      "metadata": {
        "id": "zIbQuvjYGQzH"
      }
    },
    {
      "cell_type": "code",
      "source": [
        "import tensorflow as tf\n",
        "import numpy as np\n",
        "from PIL import Image\n",
        "import os\n",
        "import glob\n",
        "\n",
        "def representative_dataset_gen():\n",
        "    folder = [\"human\"] # キャリブレーション用画像があるディレクトリ名を指定\n",
        "    image_size = 225\n",
        "    raw_test_data = []\n",
        "    for name in folder:\n",
        "        dir = \"./\" + name\n",
        "        files = glob.glob(dir + \"/*.jpg\")\n",
        "        for file in files:\n",
        "            image = Image.open(file)\n",
        "            image = image.convert(\"RGB\")\n",
        "            image = image.resize((image_size, image_size))\n",
        "            image = np.asarray(image).astype(np.float32)\n",
        "            image = image[np.newaxis,:,:,:]\n",
        "            raw_test_data.append(image)\n",
        "\n",
        "    for data in raw_test_data:\n",
        "        yield [data]\n",
        "\n",
        "converter = tf.lite.TFLiteConverter.from_saved_model('/content/posenet-python/1')\n",
        "converter.optimizations = [tf.lite.Optimize.DEFAULT]\n",
        "converter.representative_dataset = representative_dataset_gen\n",
        "converter.target_spec.supported_ops = [tf.lite.OpsSet.TFLITE_BUILTINS_INT8]\n",
        "converter.inference_input_type = tf.uint8\n",
        "converter.inference_output_type = tf.uint8\n",
        "tflite_quant_model = converter.convert()\n",
        "with open('posenet.tflite', 'wb') as w:\n",
        "    w.write(tflite_quant_model)"
      ],
      "metadata": {
        "id": "mOBbmfEerUi7"
      },
      "execution_count": 5,
      "outputs": []
    },
    {
      "cell_type": "markdown",
      "source": [
        "# 完成したモデルのダウンロード\n",
        "\n",
        "以下を実行することで、作成したモデルをダウンロードできます。"
      ],
      "metadata": {
        "id": "FCWao96DA0JT"
      }
    },
    {
      "cell_type": "code",
      "source": [
        "from google.colab import files\n",
        "files.download('posenet.tflite') "
      ],
      "metadata": {
        "colab": {
          "base_uri": "https://localhost:8080/",
          "height": 17
        },
        "id": "plLsPzoFAzfb",
        "outputId": "0aded232-806d-44b5-cb66-391719fd1f14"
      },
      "execution_count": 6,
      "outputs": [
        {
          "output_type": "display_data",
          "data": {
            "text/plain": [
              "<IPython.core.display.Javascript object>"
            ],
            "application/javascript": [
              "\n",
              "    async function download(id, filename, size) {\n",
              "      if (!google.colab.kernel.accessAllowed) {\n",
              "        return;\n",
              "      }\n",
              "      const div = document.createElement('div');\n",
              "      const label = document.createElement('label');\n",
              "      label.textContent = `Downloading \"${filename}\": `;\n",
              "      div.appendChild(label);\n",
              "      const progress = document.createElement('progress');\n",
              "      progress.max = size;\n",
              "      div.appendChild(progress);\n",
              "      document.body.appendChild(div);\n",
              "\n",
              "      const buffers = [];\n",
              "      let downloaded = 0;\n",
              "\n",
              "      const channel = await google.colab.kernel.comms.open(id);\n",
              "      // Send a message to notify the kernel that we're ready.\n",
              "      channel.send({})\n",
              "\n",
              "      for await (const message of channel.messages) {\n",
              "        // Send a message to notify the kernel that we're ready.\n",
              "        channel.send({})\n",
              "        if (message.buffers) {\n",
              "          for (const buffer of message.buffers) {\n",
              "            buffers.push(buffer);\n",
              "            downloaded += buffer.byteLength;\n",
              "            progress.value = downloaded;\n",
              "          }\n",
              "        }\n",
              "      }\n",
              "      const blob = new Blob(buffers, {type: 'application/binary'});\n",
              "      const a = document.createElement('a');\n",
              "      a.href = window.URL.createObjectURL(blob);\n",
              "      a.download = filename;\n",
              "      div.appendChild(a);\n",
              "      a.click();\n",
              "      div.remove();\n",
              "    }\n",
              "  "
            ]
          },
          "metadata": {}
        },
        {
          "output_type": "display_data",
          "data": {
            "text/plain": [
              "<IPython.core.display.Javascript object>"
            ],
            "application/javascript": [
              "download(\"download_b60f27e7-f161-4da4-887f-47ec2c07546e\", \"posenet.tflite\", 24704480)"
            ]
          },
          "metadata": {}
        }
      ]
    }
  ]
}